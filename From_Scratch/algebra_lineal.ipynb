{
 "cells": [
  {
   "cell_type": "markdown",
   "metadata": {},
   "source": [
    "Vamos a crear una serie de funciones para operar con vectores (listas de números)\n",
    "Se podría hacer utilizando la librería numpy, pero no lo haremos así."
   ]
  },
  {
   "cell_type": "code",
   "execution_count": 3,
   "metadata": {},
   "outputs": [],
   "source": [
    "def vector_add(v, w):\n",
    "    return [v_i+w_i for v_i, w_i in zip(v,w)]\n",
    "\n",
    "def vector_subtract(v, w):\n",
    "    return [v_i-w_i for v_i, w_i in zip(v,w)]\n",
    "\n",
    "def vector_sum(vectors):\n",
    "    result = [vectors[0]]\n",
    "    for vector in vectors[1:]:\n",
    "        result = vector_add(result, vector)\n",
    "    return result\n",
    "\n",
    "def scalar_multiply(c, v):\n",
    "    return [c*v_i for v_i in v]\n",
    "\n",
    "def vector_mean(vectors):\n",
    "    #los vectores deben tener todos la misma longitud\n",
    "    n = len(vectors)\n",
    "    return scalar_multiply(1/n, vector_sum(vectors))\n",
    "\n",
    "def dot(v, w):\n",
    "    return sum(v_i*w_i for v_i, w_i in zip(v,w))\n",
    "\n",
    "def sum_of_squares(v):\n",
    "    return dot(v,v)\n",
    "\n",
    "import math\n",
    "\n",
    "def magnitude(v):\n",
    "    return math.sqrt(sum_of_squares(v))\n",
    "\n",
    "def squared_distance(v,w):\n",
    "    return sum_of_squares(vector_subtract(v,w))\n",
    "\n",
    "def distance(v,w):\n",
    "    math.sqrt(squared_distance(v,w))"
   ]
  },
  {
   "cell_type": "markdown",
   "metadata": {},
   "source": [
    "* MATRICES"
   ]
  },
  {
   "cell_type": "code",
   "execution_count": 7,
   "metadata": {},
   "outputs": [
    {
     "data": {
      "text/plain": [
       "[[1, 0, 0, 0, 0],\n",
       " [0, 1, 0, 0, 0],\n",
       " [0, 0, 1, 0, 0],\n",
       " [0, 0, 0, 1, 0],\n",
       " [0, 0, 0, 0, 1]]"
      ]
     },
     "execution_count": 7,
     "metadata": {},
     "output_type": "execute_result"
    }
   ],
   "source": [
    "def shape(A):\n",
    "    num_rows = len(A)\n",
    "    num_cols = len(A[0])\n",
    "    return num_rows, num_cols\n",
    "\n",
    "def get_row(A, i):\n",
    "    return A[i]\n",
    "\n",
    "def get_col(A, j):\n",
    "    return [A_i[j] for A_i in A]\n",
    "\n",
    "def make_matrix(num_rows, num_cols, entry_fn):\n",
    "    return [[entry_fn(i, j) for j in range(num_cols)]\n",
    "            for i in range(num_rows)]\n",
    "    \n",
    "def is_diagonal(i,j):\n",
    "    return 1 if i ==j else 0\n",
    "\n",
    "identity_matrix = make_matrix(5,5,is_diagonal)\n",
    "identity_matrix"
   ]
  },
  {
   "cell_type": "markdown",
   "metadata": {},
   "source": [
    "Se pueden utilizar matrices de adyancencia por muchos motivos"
   ]
  },
  {
   "cell_type": "code",
   "execution_count": null,
   "metadata": {},
   "outputs": [],
   "source": [
    "#            user 0  1  2  3  4  5  6  7  8  9\n",
    "#\n",
    "friend_matrix = [[0, 1, 1, 0, 0, 0, 0, 0, 0, 0],  # user 0\n",
    "                 [1, 0, 1, 1, 0, 0, 0, 0, 0, 0],  # user 1\n",
    "                 [1, 1, 0, 1, 0, 0, 0, 0, 0, 0],  # user 2\n",
    "                 [0, 1, 1, 0, 1, 0, 0, 0, 0, 0],  # user 3\n",
    "                 [0, 0, 0, 1, 0, 1, 0, 0, 0, 0],  # user 4\n",
    "                 [0, 0, 0, 0, 1, 0, 1, 1, 0, 0],  # user 5\n",
    "                 [0, 0, 0, 0, 0, 1, 0, 0, 1, 0],  # user 6\n",
    "                 [0, 0, 0, 0, 0, 1, 0, 0, 1, 0],  # user 7\n",
    "                 [0, 0, 0, 0, 0, 0, 1, 1, 0, 1],  # user 8\n",
    "                 [0, 0, 0, 0, 0, 0, 0, 0, 1, 0]]  # user 9"
   ]
  }
 ],
 "metadata": {
  "kernelspec": {
   "display_name": "Python 3",
   "language": "python",
   "name": "python3"
  },
  "language_info": {
   "codemirror_mode": {
    "name": "ipython",
    "version": 3
   },
   "file_extension": ".py",
   "mimetype": "text/x-python",
   "name": "python",
   "nbconvert_exporter": "python",
   "pygments_lexer": "ipython3",
   "version": "3.10.12"
  }
 },
 "nbformat": 4,
 "nbformat_minor": 2
}
